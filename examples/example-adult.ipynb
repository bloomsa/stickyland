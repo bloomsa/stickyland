{
 "cells": [
  {
   "cell_type": "markdown",
   "id": "0",
   "metadata": {
    "tags": []
   },
   "source": [
    "# Simple Binary Classification on Adult Dataset\n",
    "\n",
    "You can use this notebook to try out StickyLand!\n",
    "\n",
    "To launch StickyLand, click the note icon in the toobar above.\n",
    "\n",
    "![](https://i.imgur.com/kQyAEF3.png)"
   ]
  },
  {
   "cell_type": "code",
   "execution_count": null,
   "id": "1",
   "metadata": {
    "tags": []
   },
   "outputs": [],
   "source": [
    "# Install dependencies\n",
    "%pip install numpy pandas matplotlib scikit-learn"
   ]
  },
  {
   "cell_type": "code",
   "execution_count": null,
   "id": "2",
   "metadata": {
    "tags": []
   },
   "outputs": [],
   "source": [
    "import numpy as np\n",
    "import pandas as pd\n",
    "from matplotlib import pyplot as plt\n",
    "from sklearn.model_selection import train_test_split\n",
    "from collections import Counter\n",
    "%config InlineBackend.figure_format = 'retina'"
   ]
  },
  {
   "cell_type": "markdown",
   "id": "3",
   "metadata": {
    "tags": []
   },
   "source": [
    "## 1. Exploratory Data Analyais"
   ]
  },
  {
   "cell_type": "markdown",
   "id": "4",
   "metadata": {},
   "source": [
    "### 1.1. Loading the Dataset"
   ]
  },
  {
   "cell_type": "code",
   "execution_count": null,
   "id": "5",
   "metadata": {
    "tags": []
   },
   "outputs": [],
   "source": [
    "df = pd.read_csv(\n",
    "    'https://archive.ics.uci.edu/ml/machine-learning-databases/adult/adult.data',\n",
    "    sep=', ',\n",
    "    engine='python',\n",
    "    header=None\n",
    ")\n",
    "\n",
    "column_names = [\n",
    "    'Age', 'WorkClass', 'fnlwgt', 'Education', 'EducationNum',\n",
    "    'MaritalStatus', 'Occupation', 'Relationship', 'Race', 'Gender',\n",
    "    'CapitalGain', 'CapitalLoss', 'HoursPerWeek', 'NativeCountry', 'Income'\n",
    "]\n",
    "df.columns = [n.lower() for n in column_names]\n",
    "\n",
    "df.shape"
   ]
  },
  {
   "cell_type": "markdown",
   "id": "6",
   "metadata": {
    "tags": []
   },
   "source": [
    "### Adult Features\n",
    "\n",
    "The Adult dataset has 14 features.<br>\n",
    "The output variable is binary (`income > 50k`)."
   ]
  },
  {
   "cell_type": "code",
   "execution_count": null,
   "id": "7",
   "metadata": {
    "tags": []
   },
   "outputs": [],
   "source": [
    "df.head()"
   ]
  },
  {
   "cell_type": "code",
   "execution_count": null,
   "id": "8",
   "metadata": {
    "tags": []
   },
   "outputs": [],
   "source": [
    "sub_df = df[df['age'] < 20]\n",
    "sub_df.head()"
   ]
  },
  {
   "cell_type": "markdown",
   "id": "9",
   "metadata": {
    "tags": []
   },
   "source": [
    "### Task List [02/22]\n",
    "\n",
    "- [x] Visualize the adult datatset\n",
    "    - [x] Histogram of all features\n",
    "    - [x] Scatter plot of `age` vs. `income`\n",
    "- [x] Test ML models on new dataset\n",
    "    - [x] XGBoost\n",
    "    - [x] Explanable Boosting Machine\n",
    "- [ ] Share the notebook with Ellie 😊\n",
    "\n",
    "Also support $\\LaTeX$!"
   ]
  },
  {
   "cell_type": "code",
   "execution_count": null,
   "id": "10",
   "metadata": {
    "tags": []
   },
   "outputs": [],
   "source": [
    "def overlay_hist(df, c):\n",
    "    \"\"\"\n",
    "    Plot two histogram of two values overlaying each other.\n",
    "    \"\"\"\n",
    "    \n",
    "    num_unique = len(df[c].unique())\n",
    "    \n",
    "    if df[c].dtype == 'object':\n",
    "        counter_1 = Counter(df[c][df['target'] == 1])\n",
    "        counter_2 = Counter(df[c][df['target'] != 1])\n",
    "\n",
    "        bar_names = []\n",
    "        bar_densities_1 = []\n",
    "        bar_densities_2 = []\n",
    "\n",
    "        for f in counter_1:\n",
    "            bar_names.append(f)\n",
    "            bar_densities_1.append(counter_1[f] / df.shape[0])\n",
    "            bar_densities_2.append(counter_2[f] / df.shape[0])\n",
    "\n",
    "        for f in counter_2:\n",
    "            if f not in counter_1:\n",
    "                bar_names.append(f)\n",
    "                bar_densities_1.append(counter_1[f] / df.shape[0])\n",
    "                bar_densities_2.append(counter_2[f] / df.shape[0])\n",
    "\n",
    "        count_df = pd.DataFrame(np.c_[bar_densities_2, bar_densities_1], index=bar_names)\n",
    "        ax = count_df.plot.bar(alpha=0.5)\n",
    "        ax.set_title(c)\n",
    "        ax.figure.autofmt_xdate(rotation=45)\n",
    "\n",
    "    else:\n",
    "        plt.hist(df[c][df['target'] == 1], alpha=0.5, density=True, label='>50k', bins=50)\n",
    "        plt.hist(df[c][df['target'] != 1], alpha=0.5, density=True, label='<=50k', bins=50)\n",
    "        plt.title(c)\n",
    "        \n",
    "    plt.legend(loc='upper right')\n",
    "    print('Num of unique values: ', num_unique)\n",
    "    plt.show()"
   ]
  },
  {
   "cell_type": "markdown",
   "id": "11",
   "metadata": {},
   "source": [
    "### Task List [02/22]\n",
    "\n",
    "- [x] Visualize the adult datatset\n",
    "    - [x] Histogram of all features\n",
    "    - [x] Scatter plot of `age` vs. `income`\n",
    "- [x] Test ML models on new dataset\n",
    "    - [x] XGBoost\n",
    "    - [x] Explanable Boosting Machine\n",
    "- [x] Share the notebook with Ellie 😊\n",
    "\n",
    "Also support $\\LaTeX$!"
   ]
  },
  {
   "cell_type": "markdown",
   "id": "12",
   "metadata": {},
   "source": [
    "Transform the target variable `Income` as a binary variable."
   ]
  },
  {
   "cell_type": "code",
   "execution_count": null,
   "id": "13",
   "metadata": {
    "tags": []
   },
   "outputs": [],
   "source": [
    "df['target'] = [0 if l else 1 for l in (df['income'] == '<=50K')]\n",
    "new_df = df.copy()"
   ]
  },
  {
   "cell_type": "markdown",
   "id": "14",
   "metadata": {},
   "source": [
    "### 1.2. Data Engineering\n",
    "\n",
    "In this section, we delete or transform some features before training the binary classifier."
   ]
  },
  {
   "cell_type": "code",
   "execution_count": null,
   "id": "15",
   "metadata": {
    "tags": []
   },
   "outputs": [],
   "source": [
    "intersted_feature = 'maritalstatus'"
   ]
  },
  {
   "cell_type": "code",
   "execution_count": null,
   "id": "16",
   "metadata": {
    "tags": []
   },
   "outputs": [],
   "source": [
    "overlay_hist(df, intersted_feature)"
   ]
  },
  {
   "cell_type": "markdown",
   "id": "17",
   "metadata": {},
   "source": [
    "The distribution difference between these two groups on age is quite significant."
   ]
  },
  {
   "cell_type": "code",
   "execution_count": null,
   "id": "18",
   "metadata": {},
   "outputs": [],
   "source": [
    "overlay_hist(df, 'workclass')"
   ]
  },
  {
   "cell_type": "code",
   "execution_count": null,
   "id": "19",
   "metadata": {
    "tags": []
   },
   "outputs": [],
   "source": [
    "overlay_hist(df, 'fnlwgt')"
   ]
  },
  {
   "cell_type": "markdown",
   "id": "20",
   "metadata": {},
   "source": [
    "`fnlwgt` stands for \"Final Weight\", which is used to give weight to different sample so that people with similar demographic characteristics have the same weight. This feature is not really useful in this model."
   ]
  },
  {
   "cell_type": "code",
   "execution_count": null,
   "id": "21",
   "metadata": {},
   "outputs": [],
   "source": [
    "del new_df['fnlwgt']"
   ]
  },
  {
   "cell_type": "code",
   "execution_count": null,
   "id": "22",
   "metadata": {
    "tags": []
   },
   "outputs": [],
   "source": [
    "overlay_hist(df, 'education')"
   ]
  },
  {
   "cell_type": "code",
   "execution_count": null,
   "id": "23",
   "metadata": {},
   "outputs": [],
   "source": [
    "overlay_hist(df, 'educationnum')"
   ]
  },
  {
   "cell_type": "code",
   "execution_count": null,
   "id": "24",
   "metadata": {},
   "outputs": [],
   "source": [
    "overlay_hist(df, 'maritalstatus')"
   ]
  },
  {
   "cell_type": "code",
   "execution_count": null,
   "id": "25",
   "metadata": {},
   "outputs": [],
   "source": [
    "overlay_hist(df, 'occupation')"
   ]
  },
  {
   "cell_type": "code",
   "execution_count": null,
   "id": "26",
   "metadata": {},
   "outputs": [],
   "source": [
    "overlay_hist(df, 'relationship')"
   ]
  },
  {
   "cell_type": "code",
   "execution_count": null,
   "id": "27",
   "metadata": {},
   "outputs": [],
   "source": [
    "overlay_hist(df, 'race')"
   ]
  },
  {
   "cell_type": "code",
   "execution_count": null,
   "id": "28",
   "metadata": {},
   "outputs": [],
   "source": [
    "overlay_hist(df, 'gender')"
   ]
  },
  {
   "cell_type": "code",
   "execution_count": null,
   "id": "29",
   "metadata": {},
   "outputs": [],
   "source": [
    "overlay_hist(df, 'capitalgain')"
   ]
  },
  {
   "cell_type": "code",
   "execution_count": null,
   "id": "30",
   "metadata": {},
   "outputs": [],
   "source": [
    "overlay_hist(df, 'capitalloss')"
   ]
  },
  {
   "cell_type": "markdown",
   "id": "31",
   "metadata": {},
   "source": [
    "These two features `capitalgain` and `capitalloss` have many 0 values. It makes sense, because the census define capital gain/loss as the profit/loss of asset sales (stocks or real estate). Not all people would yield cpaital gain/loss in a particular. We can convert these two variables as binary features `has_capitalgain` and `has_capitalloss`."
   ]
  },
  {
   "cell_type": "code",
   "execution_count": null,
   "id": "32",
   "metadata": {},
   "outputs": [],
   "source": [
    "new_df['has_capitalgain'] = [int(t) for t in df['capitalgain'] != 0]\n",
    "new_df['has_capitalloss'] = [int(t) for t in df['capitalloss'] != 0]\n",
    "\n",
    "del new_df['capitalgain']\n",
    "del new_df['capitalloss']"
   ]
  },
  {
   "cell_type": "code",
   "execution_count": null,
   "id": "33",
   "metadata": {},
   "outputs": [],
   "source": [
    "overlay_hist(df, 'hoursperweek')"
   ]
  },
  {
   "cell_type": "markdown",
   "id": "34",
   "metadata": {},
   "source": [
    "Working 40 hours a week is typical in the dataset. Interestingly people who earn more tend to work longer."
   ]
  },
  {
   "cell_type": "code",
   "execution_count": null,
   "id": "35",
   "metadata": {
    "tags": []
   },
   "outputs": [],
   "source": [
    "overlay_hist(df, 'nativecountry')"
   ]
  },
  {
   "cell_type": "markdown",
   "id": "36",
   "metadata": {},
   "source": [
    "The majority of the native country is the US. We can encode it as another binary variable `from-usa` to decrease the number of levels."
   ]
  },
  {
   "cell_type": "code",
   "execution_count": null,
   "id": "37",
   "metadata": {},
   "outputs": [],
   "source": [
    "new_df['from_usa'] = [int(t) for t in df['nativecountry'] == 'United-States']\n",
    "del new_df['nativecountry']"
   ]
  },
  {
   "cell_type": "code",
   "execution_count": null,
   "id": "38",
   "metadata": {},
   "outputs": [],
   "source": [
    "overlay_hist(df, 'income')"
   ]
  },
  {
   "cell_type": "markdown",
   "id": "39",
   "metadata": {},
   "source": [
    "It shows this dataset is quite imbalanced."
   ]
  },
  {
   "cell_type": "code",
   "execution_count": null,
   "id": "40",
   "metadata": {
    "tags": []
   },
   "outputs": [],
   "source": [
    "new_df.head()"
   ]
  },
  {
   "cell_type": "markdown",
   "id": "41",
   "metadata": {},
   "source": [
    "## Image Augmentation"
   ]
  },
  {
   "cell_type": "code",
   "execution_count": null,
   "id": "42",
   "metadata": {},
   "outputs": [],
   "source": [
    "# Install dependencies\n",
    "%pip install imageio albumentations"
   ]
  },
  {
   "cell_type": "code",
   "execution_count": null,
   "id": "43",
   "metadata": {},
   "outputs": [],
   "source": [
    "import imageio\n",
    "import numpy as np\n",
    "import matplotlib.pyplot as plt\n",
    "import cv2\n",
    "import albumentations as A\n",
    "%config InlineBackend.figure_format = 'retina'\n",
    "%matplotlib inline"
   ]
  },
  {
   "cell_type": "code",
   "execution_count": null,
   "id": "44",
   "metadata": {},
   "outputs": [],
   "source": [
    "def load_random_image():\n",
    "    image = imageio.imread('https://picsum.photos/200/300')\n",
    "\n",
    "    image = image[:, :, :3]\n",
    "\n",
    "    s = 250\n",
    "    transform = A.Resize(height=s, width=s)\n",
    "    augmented = transform(image=image)\n",
    "    image = augmented['image']\n",
    "    \n",
    "    return image"
   ]
  },
  {
   "cell_type": "code",
   "execution_count": null,
   "id": "45",
   "metadata": {},
   "outputs": [],
   "source": [
    "def rotate(image):\n",
    "    \"\"\"Rotate the image using Albumentations\"\"\"\n",
    "    transform = A.Rotate(limit=(-10, -9), p=1.0)\n",
    "    augmented = transform(image=image)\n",
    "    return augmented['image']\n",
    "\n",
    "def add_noise(image):\n",
    "    \"\"\"Add coarse dropout noise using Albumentations\"\"\"\n",
    "    h, w = image.shape[:2]\n",
    "    transform = A.CoarseDropout(p=0.50)\n",
    "    augmented = transform(image=image)\n",
    "    return augmented['image']\n",
    "\n",
    "def multiply_hue_saturation(img, factor):\n",
    "    # Convert RGB to HSV (note: OpenCV uses hue range [0,179])\n",
    "    hsv = cv2.cvtColor(img, cv2.COLOR_RGB2HSV).astype(np.float32)\n",
    "    hsv[..., 0] = np.clip(hsv[..., 0] * factor, 0, 179)\n",
    "    hsv[..., 1] = np.clip(hsv[..., 1] * factor, 0, 255)\n",
    "    return cv2.cvtColor(hsv.astype(np.uint8), cv2.COLOR_HSV2RGB)\n",
    "\n",
    "def corrupt(image):\n",
    "    \"\"\"Corrupt the image by boosting hue and saturation twice\"\"\"\n",
    "    image = multiply_hue_saturation(image, 4)\n",
    "    image = multiply_hue_saturation(image, 4)\n",
    "    return image  "
   ]
  },
  {
   "cell_type": "code",
   "execution_count": null,
   "id": "46",
   "metadata": {},
   "outputs": [],
   "source": [
    "image = load_random_image()\n",
    "plt.imshow(image);"
   ]
  },
  {
   "cell_type": "code",
   "execution_count": null,
   "id": "47",
   "metadata": {
    "tags": []
   },
   "outputs": [],
   "source": [
    "image = rotate(image)\n",
    "plt.imshow(image);"
   ]
  },
  {
   "cell_type": "code",
   "execution_count": null,
   "id": "48",
   "metadata": {
    "tags": []
   },
   "outputs": [],
   "source": [
    "image = add_noise(image)\n",
    "plt.imshow(image);"
   ]
  },
  {
   "cell_type": "code",
   "execution_count": null,
   "id": "49",
   "metadata": {
    "tags": []
   },
   "outputs": [],
   "source": [
    "image = corrupt(image)\n",
    "plt.imshow(image);"
   ]
  },
  {
   "cell_type": "markdown",
   "id": "50",
   "metadata": {
    "tags": []
   },
   "source": [
    "<br>\n",
    "<br>\n",
    "<br><br>\n",
    "<br>\n",
    "\n",
    "<br>\n",
    "<br>\n",
    "<br>\n",
    "<br>"
   ]
  }
 ],
 "metadata": {
  "kernelspec": {
   "display_name": "Python 3 (ipykernel)",
   "language": "python",
   "name": "python3"
  },
  "language_info": {
   "codemirror_mode": {
    "name": "ipython",
    "version": 3
   },
   "file_extension": ".py",
   "mimetype": "text/x-python",
   "name": "python",
   "nbconvert_exporter": "python",
   "pygments_lexer": "ipython3",
   "version": "3.10.14"
  },
  "toc-autonumbering": false,
  "toc-showcode": false,
  "toc-showmarkdowntxt": false
 },
 "nbformat": 4,
 "nbformat_minor": 5
}
